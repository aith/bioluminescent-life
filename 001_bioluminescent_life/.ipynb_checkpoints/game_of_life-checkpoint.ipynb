{
 "cells": [
  {
   "cell_type": "markdown",
   "source": [
    "# Tonemapping an HDR image using Taichi GPU computing interface"
   ],
   "metadata": {
    "collapsed": false
   }
  },
  {
   "cell_type": "markdown",
   "source": [
    "### Initialize packages"
   ],
   "metadata": {
    "collapsed": false
   }
  },
  {
   "cell_type": "code",
   "execution_count": 4,
   "outputs": [
    {
     "name": "stdout",
     "output_type": "stream",
     "text": [
      "[Taichi] mode=release\n",
      "[Taichi] preparing sandbox at /tmp/taichi-opjqbzgx\n",
      "[Taichi] version 0.7.16, llvm 10.0.0, commit bca037cf, linux, python 3.8.5\n",
      "[Taichi] Starting on arch=cuda\n"
     ]
    }
   ],
   "source": [
    "import numpy as np\n",
    "import taichi as ti\n",
    "ti.init(arch=ti.gpu)\n",
    "import imageio as iio\n",
    "import matplotlib.pyplot as plt\n",
    "GUI_DOWNSCALING_FACTOR = 1.0"
   ],
   "metadata": {
    "collapsed": false,
    "pycharm": {
     "name": "#%%\n"
    }
   }
  },
  {
   "cell_type": "markdown",
   "source": [
    "### Load input image data"
   ],
   "metadata": {
    "collapsed": false
   }
  },
  {
   "cell_type": "code",
   "execution_count": 5,
   "outputs": [
    {
     "data": {
      "text/plain": "((936, 953, 3), dtype('uint8'))"
     },
     "execution_count": 5,
     "metadata": {},
     "output_type": "execute_result"
    }
   ],
   "source": [
    "FILENAME = 'onset.png'\n",
    "image = iio.imread(FILENAME)\n",
    "image.shape, image.dtype"
   ],
   "metadata": {
    "collapsed": false,
    "pycharm": {
     "name": "#%%\n"
    }
   }
  },
  {
   "cell_type": "markdown",
   "source": [
    "### Allocate GPU memory"
   ],
   "metadata": {
    "collapsed": false
   }
  },
  {
   "cell_type": "code",
   "execution_count": 6,
   "outputs": [],
   "source": [
    "image_grid = ti.field(dtype=ti.f32, shape=image.shape)\n",
    "image_grid_downsampled = ti.field(dtype=ti.f32, shape=(int(image.shape[1] / GUI_DOWNSCALING_FACTOR), int(image.shape[0] / GUI_DOWNSCALING_FACTOR), image.shape[2]))\n",
    "igaussian_grid_A = ti.field(dtype=ti.f32, shape=image.shape)\n",
    "igaussian_grid_B = ti.field(dtype=ti.f32, shape=image.shape)"
   ],
   "metadata": {
    "collapsed": false,
    "pycharm": {
     "name": "#%%\n"
    }
   }
  },
  {
   "cell_type": "markdown",
   "source": [
    "### Define GPU compute kernels"
   ],
   "metadata": {
    "collapsed": false
   }
  },
  {
   "cell_type": "code",
   "execution_count": 7,
   "outputs": [],
   "source": [
    "@ti.kernel\n",
    "def copy(dst: ti.template(), src: ti.template()):\n",
    "    for p in ti.grouped(dst):\n",
    "        dst[p] = src[p]\n",
    "\n",
    "@ti.kernel\n",
    "def tonemap_hdr(exposure: ti.f32, gamma: ti.f32, i_red: ti.f32, i_green: ti.f32, i_blue: ti.f32):\n",
    "    for x, y in ti.ndrange(image_grid.shape[0], image_grid.shape[1]):\n",
    "        image_grid[x, y, 0] = (1.0 - ti.exp(-exposure * i_red   * image_grid[x, y, 0])) ** (1.0/gamma)\n",
    "        image_grid[x, y, 1] = (1.0 - ti.exp(-exposure * i_green * image_grid[x, y, 1])) ** (1.0/gamma)\n",
    "        image_grid[x, y, 2] = (1.0 - ti.exp(-exposure * i_blue  * image_grid[x, y, 2])) ** (1.0/gamma)\n",
    "\n",
    "GAUSS = [5.0, 1.0, 1.0/1.41]\n",
    "GAUSS_NORM = GAUSS[0] + 4.0 * GAUSS[1] + 4.0 * GAUSS[2]\n",
    "\n",
    "@ti.kernel\n",
    "def incremental_blur():\n",
    "    for x, y, ch in igaussian_grid_B:\n",
    "        value = GAUSS[0] * igaussian_grid_A[x, y, ch]\\\n",
    "              + GAUSS[1] * igaussian_grid_A[x-1, y, ch]\\\n",
    "              + GAUSS[1] * igaussian_grid_A[x+1, y, ch]\\\n",
    "              + GAUSS[1] * igaussian_grid_A[x, y-1, ch]\\\n",
    "              + GAUSS[1] * igaussian_grid_A[x, y+1, ch]\\\n",
    "              + GAUSS[2] * igaussian_grid_A[x-1, y-1, ch]\\\n",
    "              + GAUSS[2] * igaussian_grid_A[x+1, y+1, ch]\\\n",
    "              + GAUSS[2] * igaussian_grid_A[x+1, y-1, ch]\\\n",
    "              + GAUSS[2] * igaussian_grid_A[x-1, y+1, ch]\n",
    "        igaussian_grid_B[x, y, ch] = value / GAUSS_NORM\n",
    "    for x, y, ch in igaussian_grid_A:\n",
    "        value = GAUSS[0] * igaussian_grid_B[x, y, ch]\\\n",
    "              + GAUSS[1] * igaussian_grid_B[x-1, y, ch]\\\n",
    "              + GAUSS[1] * igaussian_grid_B[x+1, y, ch]\\\n",
    "              + GAUSS[1] * igaussian_grid_B[x, y-1, ch]\\\n",
    "              + GAUSS[1] * igaussian_grid_B[x, y+1, ch]\\\n",
    "              + GAUSS[2] * igaussian_grid_B[x-1, y-1, ch]\\\n",
    "              + GAUSS[2] * igaussian_grid_B[x+1, y+1, ch]\\\n",
    "              + GAUSS[2] * igaussian_grid_B[x+1, y-1, ch]\\\n",
    "              + GAUSS[2] * igaussian_grid_B[x-1, y+1, ch]\n",
    "        igaussian_grid_A[x, y, ch] = value / GAUSS_NORM\n",
    "\n",
    "@ti.kernel\n",
    "def unsharp_compose(intensity: ti.f32):\n",
    "    for x, y, ch in image_grid:\n",
    "        base = image_grid[x, y, ch]\n",
    "        blurred = igaussian_grid_A[x, y, ch]\n",
    "        image_grid[x, y, ch] = max(0.0, min(base + intensity * (base - blurred), 1.0))\n",
    "\n",
    "@ti.kernel\n",
    "def img_downsample():\n",
    "    for x, y, ch in image_grid_downsampled:\n",
    "        image_grid_downsampled[x, y, ch] =\\\n",
    "            image_grid[int((image_grid.shape[0] - GUI_DOWNSCALING_FACTOR*y)), int(GUI_DOWNSCALING_FACTOR * x), ch]"
   ],
   "metadata": {
    "collapsed": false,
    "pycharm": {
     "name": "#%%\n"
    }
   }
  },
  {
   "cell_type": "markdown",
   "source": [
    "### Run Taichi GUI and computation"
   ],
   "metadata": {
    "collapsed": false
   }
  },
  {
   "cell_type": "code",
   "execution_count": 13,
   "outputs": [],
   "source": [
    "gui = ti.GUI('Tonemap HDR', (image_grid_downsampled.shape[0], image_grid_downsampled.shape[1]))\n",
    "exposure = gui.slider('exposure', 0.0, 10.0, 0.01); exposure.value = 2.0\n",
    "gamma = gui.slider('gamma', 0.1, 5.0, 0.01); gamma.value = 1.6\n",
    "scale = gui.slider('unsharp scale', 0.0, 30.0, 1.0); scale.value = 8.0\n",
    "sharpness = gui.slider('unsharp intensity', 0.0, 2.0, 0.01); sharpness.value = 0.3\n",
    "i_red = gui.slider('I-red', 0.0, 2.0, 0.01); i_red.value = 1.1\n",
    "i_green = gui.slider('I-green', 0.0, 2.0, 0.01); i_green.value = 1.05\n",
    "i_blue = gui.slider('I-blue', 0.0, 2.0, 0.01); i_blue.value = 1.0\n",
    "\n",
    "while gui.running:\n",
    "    # copy image from CPU to GPU memory\n",
    "    image_grid.from_numpy(image)\n",
    "\n",
    "    # tonemap image using the gamma operator\n",
    "    tonemap_hdr(exposure.value, gamma.value, i_red.value, i_green.value, i_blue.value)\n",
    "\n",
    "    # sharpen the image using unsharp masking with incremental Gaussian blur\n",
    "    copy(igaussian_grid_A, image_grid)\n",
    "    for n in range(int(scale.value)):\n",
    "        incremental_blur()\n",
    "    unsharp_compose(sharpness.value)\n",
    "\n",
    "    # downsample the image for display in the GUI\n",
    "    img_downsample()\n",
    "    gui.set_image(image_grid_downsampled)\n",
    "    gui.show();\n",
    "\n",
    "# when done, copy the results back to the CPU memory\n",
    "image_final = image_grid.to_numpy()"
   ],
   "metadata": {
    "collapsed": false,
    "pycharm": {
     "name": "#%%\n"
    }
   }
  },
  {
   "cell_type": "markdown",
   "source": [
    "### Show results"
   ],
   "metadata": {
    "collapsed": false
   }
  },
  {
   "cell_type": "code",
   "execution_count": 12,
   "outputs": [
    {
     "data": {
      "text/plain": "<Figure size 720x720 with 1 Axes>",
      "image/png": "[encoded data removed]"
     },
     "metadata": {
      "needs_background": "light"
     },
     "output_type": "display_data"
    }
   ],
   "source": [
    "plt.figure(figsize = (10.0, 10.0))\n",
    "plt.imshow(image_final);"
   ],
   "metadata": {
    "collapsed": false,
    "pycharm": {
     "name": "#%%\n"
    }
   }
  },
  {
   "cell_type": "markdown",
   "source": [
    "### Store results"
   ],
   "metadata": {
    "collapsed": false
   }
  },
  {
   "cell_type": "code",
   "execution_count": 11,
   "outputs": [
    {
     "ename": "RuntimeError",
     "evalue": "The freeimage library could not be loaded: Need FreeImage library. You can obtain it with either:\n  - download using the command: imageio_download_bin freeimage\n  - download by calling (in Python): imageio.plugins.freeimage.download()\n",
     "output_type": "error",
     "traceback": [
      "\u001B[0;31m---------------------------------------------------------------------------\u001B[0m",
      "\u001B[0;31mRuntimeError\u001B[0m                              Traceback (most recent call last)",
      "\u001B[0;32m<ipython-input-11-06efec2e322e>\u001B[0m in \u001B[0;36m<module>\u001B[0;34m\u001B[0m\n\u001B[0;32m----> 1\u001B[0;31m \u001B[0miio\u001B[0m\u001B[0;34m.\u001B[0m\u001B[0mimwrite\u001B[0m\u001B[0;34m(\u001B[0m\u001B[0mFILENAME\u001B[0m \u001B[0;34m+\u001B[0m \u001B[0;34m'.exr'\u001B[0m\u001B[0;34m,\u001B[0m \u001B[0mimage_final\u001B[0m\u001B[0;34m,\u001B[0m \u001B[0mformat\u001B[0m\u001B[0;34m=\u001B[0m\u001B[0;34m'EXR-FI'\u001B[0m\u001B[0;34m)\u001B[0m\u001B[0;34m\u001B[0m\u001B[0;34m\u001B[0m\u001B[0m\n\u001B[0m\u001B[1;32m      2\u001B[0m \u001B[0mimage_final_LDR\u001B[0m \u001B[0;34m=\u001B[0m \u001B[0;36m255.0\u001B[0m \u001B[0;34m*\u001B[0m \u001B[0mimage_final\u001B[0m\u001B[0;34m\u001B[0m\u001B[0;34m\u001B[0m\u001B[0m\n\u001B[1;32m      3\u001B[0m \u001B[0miio\u001B[0m\u001B[0;34m.\u001B[0m\u001B[0mimwrite\u001B[0m\u001B[0;34m(\u001B[0m\u001B[0mFILENAME\u001B[0m \u001B[0;34m+\u001B[0m \u001B[0;34m'.png'\u001B[0m\u001B[0;34m,\u001B[0m \u001B[0mimage_final_LDR\u001B[0m\u001B[0;34m.\u001B[0m\u001B[0mastype\u001B[0m\u001B[0;34m(\u001B[0m\u001B[0mnp\u001B[0m\u001B[0;34m.\u001B[0m\u001B[0muint8\u001B[0m\u001B[0;34m)\u001B[0m\u001B[0;34m,\u001B[0m \u001B[0mformat\u001B[0m\u001B[0;34m=\u001B[0m\u001B[0;34m'PNG-FI'\u001B[0m\u001B[0;34m)\u001B[0m\u001B[0;34m\u001B[0m\u001B[0;34m\u001B[0m\u001B[0m\n",
      "\u001B[0;32m~/.local/lib/python3.8/site-packages/imageio/core/functions.py\u001B[0m in \u001B[0;36mimwrite\u001B[0;34m(uri, im, format, **kwargs)\u001B[0m\n\u001B[1;32m    303\u001B[0m     \u001B[0mwriter\u001B[0m \u001B[0;34m=\u001B[0m \u001B[0mget_writer\u001B[0m\u001B[0;34m(\u001B[0m\u001B[0muri\u001B[0m\u001B[0;34m,\u001B[0m \u001B[0mformat\u001B[0m\u001B[0;34m,\u001B[0m \u001B[0;34m\"i\"\u001B[0m\u001B[0;34m,\u001B[0m \u001B[0;34m**\u001B[0m\u001B[0mkwargs\u001B[0m\u001B[0;34m)\u001B[0m\u001B[0;34m\u001B[0m\u001B[0;34m\u001B[0m\u001B[0m\n\u001B[1;32m    304\u001B[0m     \u001B[0;32mwith\u001B[0m \u001B[0mwriter\u001B[0m\u001B[0;34m:\u001B[0m\u001B[0;34m\u001B[0m\u001B[0;34m\u001B[0m\u001B[0m\n\u001B[0;32m--> 305\u001B[0;31m         \u001B[0mwriter\u001B[0m\u001B[0;34m.\u001B[0m\u001B[0mappend_data\u001B[0m\u001B[0;34m(\u001B[0m\u001B[0mim\u001B[0m\u001B[0;34m)\u001B[0m\u001B[0;34m\u001B[0m\u001B[0;34m\u001B[0m\u001B[0m\n\u001B[0m\u001B[1;32m    306\u001B[0m \u001B[0;34m\u001B[0m\u001B[0m\n\u001B[1;32m    307\u001B[0m     \u001B[0;31m# Return a result if there is any\u001B[0m\u001B[0;34m\u001B[0m\u001B[0;34m\u001B[0m\u001B[0;34m\u001B[0m\u001B[0m\n",
      "\u001B[0;32m~/.local/lib/python3.8/site-packages/imageio/core/format.py\u001B[0m in \u001B[0;36mappend_data\u001B[0;34m(self, im, meta)\u001B[0m\n\u001B[1;32m    500\u001B[0m             \u001B[0mim\u001B[0m \u001B[0;34m=\u001B[0m \u001B[0masarray\u001B[0m\u001B[0;34m(\u001B[0m\u001B[0mim\u001B[0m\u001B[0;34m)\u001B[0m\u001B[0;34m\u001B[0m\u001B[0;34m\u001B[0m\u001B[0m\n\u001B[1;32m    501\u001B[0m             \u001B[0;31m# Call\u001B[0m\u001B[0;34m\u001B[0m\u001B[0;34m\u001B[0m\u001B[0;34m\u001B[0m\u001B[0m\n\u001B[0;32m--> 502\u001B[0;31m             \u001B[0;32mreturn\u001B[0m \u001B[0mself\u001B[0m\u001B[0;34m.\u001B[0m\u001B[0m_append_data\u001B[0m\u001B[0;34m(\u001B[0m\u001B[0mim\u001B[0m\u001B[0;34m,\u001B[0m \u001B[0mtotal_meta\u001B[0m\u001B[0;34m)\u001B[0m\u001B[0;34m\u001B[0m\u001B[0;34m\u001B[0m\u001B[0m\n\u001B[0m\u001B[1;32m    503\u001B[0m \u001B[0;34m\u001B[0m\u001B[0m\n\u001B[1;32m    504\u001B[0m         \u001B[0;32mdef\u001B[0m \u001B[0mset_meta_data\u001B[0m\u001B[0;34m(\u001B[0m\u001B[0mself\u001B[0m\u001B[0;34m,\u001B[0m \u001B[0mmeta\u001B[0m\u001B[0;34m)\u001B[0m\u001B[0;34m:\u001B[0m\u001B[0;34m\u001B[0m\u001B[0;34m\u001B[0m\u001B[0m\n",
      "\u001B[0;32m~/.local/lib/python3.8/site-packages/imageio/plugins/freeimage.py\u001B[0m in \u001B[0;36m_append_data\u001B[0;34m(self, im, meta)\u001B[0m\n\u001B[1;32m    125\u001B[0m                     \u001B[0mself\u001B[0m\u001B[0;34m.\u001B[0m\u001B[0mrequest\u001B[0m\u001B[0;34m.\u001B[0m\u001B[0mfilename\u001B[0m\u001B[0;34m,\u001B[0m \u001B[0mself\u001B[0m\u001B[0;34m.\u001B[0m\u001B[0mformat\u001B[0m\u001B[0;34m.\u001B[0m\u001B[0mfif\u001B[0m\u001B[0;34m,\u001B[0m \u001B[0mself\u001B[0m\u001B[0;34m.\u001B[0m\u001B[0m_flags\u001B[0m\u001B[0;34m\u001B[0m\u001B[0;34m\u001B[0m\u001B[0m\n\u001B[1;32m    126\u001B[0m                 )\n\u001B[0;32m--> 127\u001B[0;31m                 \u001B[0mself\u001B[0m\u001B[0;34m.\u001B[0m\u001B[0m_bm\u001B[0m\u001B[0;34m.\u001B[0m\u001B[0mallocate\u001B[0m\u001B[0;34m(\u001B[0m\u001B[0mim\u001B[0m\u001B[0;34m)\u001B[0m\u001B[0;34m\u001B[0m\u001B[0;34m\u001B[0m\u001B[0m\n\u001B[0m\u001B[1;32m    128\u001B[0m             \u001B[0;31m# Set data\u001B[0m\u001B[0;34m\u001B[0m\u001B[0;34m\u001B[0m\u001B[0;34m\u001B[0m\u001B[0m\n\u001B[1;32m    129\u001B[0m             \u001B[0mself\u001B[0m\u001B[0;34m.\u001B[0m\u001B[0m_bm\u001B[0m\u001B[0;34m.\u001B[0m\u001B[0mset_image_data\u001B[0m\u001B[0;34m(\u001B[0m\u001B[0mim\u001B[0m\u001B[0;34m)\u001B[0m\u001B[0;34m\u001B[0m\u001B[0;34m\u001B[0m\u001B[0m\n",
      "\u001B[0;32m~/.local/lib/python3.8/site-packages/imageio/plugins/_freeimage.py\u001B[0m in \u001B[0;36mallocate\u001B[0;34m(self, array)\u001B[0m\n\u001B[1;32m    826\u001B[0m \u001B[0;34m\u001B[0m\u001B[0m\n\u001B[1;32m    827\u001B[0m         \u001B[0;31m# Allocate bitmap\u001B[0m\u001B[0;34m\u001B[0m\u001B[0;34m\u001B[0m\u001B[0;34m\u001B[0m\u001B[0m\n\u001B[0;32m--> 828\u001B[0;31m         \u001B[0;32mwith\u001B[0m \u001B[0mself\u001B[0m\u001B[0;34m.\u001B[0m\u001B[0m_fi\u001B[0m \u001B[0;32mas\u001B[0m \u001B[0mlib\u001B[0m\u001B[0;34m:\u001B[0m\u001B[0;34m\u001B[0m\u001B[0;34m\u001B[0m\u001B[0m\n\u001B[0m\u001B[1;32m    829\u001B[0m             \u001B[0mbpp\u001B[0m \u001B[0;34m=\u001B[0m \u001B[0;36m8\u001B[0m \u001B[0;34m*\u001B[0m \u001B[0mdtype\u001B[0m\u001B[0;34m.\u001B[0m\u001B[0mitemsize\u001B[0m \u001B[0;34m*\u001B[0m \u001B[0mn_channels\u001B[0m\u001B[0;34m\u001B[0m\u001B[0;34m\u001B[0m\u001B[0m\n\u001B[1;32m    830\u001B[0m             \u001B[0mbitmap\u001B[0m \u001B[0;34m=\u001B[0m \u001B[0mlib\u001B[0m\u001B[0;34m.\u001B[0m\u001B[0mFreeImage_AllocateT\u001B[0m\u001B[0;34m(\u001B[0m\u001B[0mfi_type\u001B[0m\u001B[0;34m,\u001B[0m \u001B[0mc\u001B[0m\u001B[0;34m,\u001B[0m \u001B[0mr\u001B[0m\u001B[0;34m,\u001B[0m \u001B[0mbpp\u001B[0m\u001B[0;34m,\u001B[0m \u001B[0;36m0\u001B[0m\u001B[0;34m,\u001B[0m \u001B[0;36m0\u001B[0m\u001B[0;34m,\u001B[0m \u001B[0;36m0\u001B[0m\u001B[0;34m)\u001B[0m\u001B[0;34m\u001B[0m\u001B[0;34m\u001B[0m\u001B[0m\n",
      "\u001B[0;32m~/.local/lib/python3.8/site-packages/imageio/plugins/_freeimage.py\u001B[0m in \u001B[0;36m__enter__\u001B[0;34m(self)\u001B[0m\n\u001B[1;32m    525\u001B[0m     \u001B[0;32mdef\u001B[0m \u001B[0m__enter__\u001B[0m\u001B[0;34m(\u001B[0m\u001B[0mself\u001B[0m\u001B[0;34m)\u001B[0m\u001B[0;34m:\u001B[0m\u001B[0;34m\u001B[0m\u001B[0;34m\u001B[0m\u001B[0m\n\u001B[1;32m    526\u001B[0m         \u001B[0mself\u001B[0m\u001B[0;34m.\u001B[0m\u001B[0m_lock\u001B[0m\u001B[0;34m.\u001B[0m\u001B[0macquire\u001B[0m\u001B[0;34m(\u001B[0m\u001B[0;34m)\u001B[0m\u001B[0;34m\u001B[0m\u001B[0;34m\u001B[0m\u001B[0m\n\u001B[0;32m--> 527\u001B[0;31m         \u001B[0;32mreturn\u001B[0m \u001B[0mself\u001B[0m\u001B[0;34m.\u001B[0m\u001B[0mlib\u001B[0m\u001B[0;34m\u001B[0m\u001B[0;34m\u001B[0m\u001B[0m\n\u001B[0m\u001B[1;32m    528\u001B[0m \u001B[0;34m\u001B[0m\u001B[0m\n\u001B[1;32m    529\u001B[0m     \u001B[0;32mdef\u001B[0m \u001B[0m__exit__\u001B[0m\u001B[0;34m(\u001B[0m\u001B[0mself\u001B[0m\u001B[0;34m,\u001B[0m \u001B[0;34m*\u001B[0m\u001B[0margs\u001B[0m\u001B[0;34m)\u001B[0m\u001B[0;34m:\u001B[0m\u001B[0;34m\u001B[0m\u001B[0;34m\u001B[0m\u001B[0m\n",
      "\u001B[0;32m~/.local/lib/python3.8/site-packages/imageio/plugins/_freeimage.py\u001B[0m in \u001B[0;36mlib\u001B[0;34m(self)\u001B[0m\n\u001B[1;32m    444\u001B[0m                 \u001B[0mself\u001B[0m\u001B[0;34m.\u001B[0m\u001B[0m_lib\u001B[0m \u001B[0;34m+=\u001B[0m \u001B[0mstr\u001B[0m\u001B[0;34m(\u001B[0m\u001B[0merr\u001B[0m\u001B[0;34m)\u001B[0m\u001B[0;34m\u001B[0m\u001B[0;34m\u001B[0m\u001B[0m\n\u001B[1;32m    445\u001B[0m         \u001B[0;32mif\u001B[0m \u001B[0misinstance\u001B[0m\u001B[0;34m(\u001B[0m\u001B[0mself\u001B[0m\u001B[0;34m.\u001B[0m\u001B[0m_lib\u001B[0m\u001B[0;34m,\u001B[0m \u001B[0mstr\u001B[0m\u001B[0;34m)\u001B[0m\u001B[0;34m:\u001B[0m\u001B[0;34m\u001B[0m\u001B[0;34m\u001B[0m\u001B[0m\n\u001B[0;32m--> 446\u001B[0;31m             \u001B[0;32mraise\u001B[0m \u001B[0mRuntimeError\u001B[0m\u001B[0;34m(\u001B[0m\u001B[0mself\u001B[0m\u001B[0;34m.\u001B[0m\u001B[0m_lib\u001B[0m\u001B[0;34m)\u001B[0m\u001B[0;34m\u001B[0m\u001B[0;34m\u001B[0m\u001B[0m\n\u001B[0m\u001B[1;32m    447\u001B[0m         \u001B[0;32mreturn\u001B[0m \u001B[0mself\u001B[0m\u001B[0;34m.\u001B[0m\u001B[0m_lib\u001B[0m\u001B[0;34m\u001B[0m\u001B[0;34m\u001B[0m\u001B[0m\n\u001B[1;32m    448\u001B[0m \u001B[0;34m\u001B[0m\u001B[0m\n",
      "\u001B[0;31mRuntimeError\u001B[0m: The freeimage library could not be loaded: Need FreeImage library. You can obtain it with either:\n  - download using the command: imageio_download_bin freeimage\n  - download by calling (in Python): imageio.plugins.freeimage.download()\n"
     ]
    }
   ],
   "source": [
    "iio.imwrite(FILENAME + '.exr', image_final, format='EXR-FI')\n",
    "image_final_LDR = 255.0 * image_final\n",
    "iio.imwrite(FILENAME + '.png', image_final_LDR.astype(np.uint8), format='PNG-FI')"
   ],
   "metadata": {
    "collapsed": false,
    "pycharm": {
     "name": "#%%\n"
    }
   }
  }
 ],
 "metadata": {
  "kernelspec": {
   "name": "pycharm-5af6fa8",
   "language": "python",
   "display_name": "PyCharm (001_game_of_life)"
  },
  "language_info": {
   "codemirror_mode": {
    "name": "ipython",
    "version": 2
   },
   "file_extension": ".py",
   "mimetype": "text/x-python",
   "name": "python",
   "nbconvert_exporter": "python",
   "pygments_lexer": "ipython2",
   "version": "2.7.6"
  }
 },
 "nbformat": 4,
 "nbformat_minor": 0
}