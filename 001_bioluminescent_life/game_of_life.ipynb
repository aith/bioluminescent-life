{
 "cells": [
  {
   "cell_type": "markdown",
   "source": [
    "# Tonemapping an HDR image using Taichi GPU computing interface"
   ],
   "metadata": {
    "collapsed": false
   }
  },
  {
   "cell_type": "markdown",
   "source": [
    "### Initialize packages"
   ],
   "metadata": {
    "collapsed": false
   }
  },
  {
   "cell_type": "code",
   "execution_count": 15,
   "outputs": [
    {
     "name": "stdout",
     "output_type": "stream",
     "text": [
      "[Taichi] Starting on arch=cuda\n"
     ]
    }
   ],
   "source": [
    "import numpy as np\n",
    "import imageio as iio\n",
    "import matplotlib.pyplot as plt\n",
    "import taichi as ti\n",
    "ti.init(arch=ti.gpu)\n",
    "GUI_DOWNSCALING_FACTOR = 1.0"
   ],
   "metadata": {
    "collapsed": false,
    "pycharm": {
     "name": "#%%\n"
    }
   }
  },
  {
   "cell_type": "markdown",
   "source": [
    "### Load input image data"
   ],
   "metadata": {
    "collapsed": false
   }
  },
  {
   "cell_type": "code",
   "execution_count": 29,
   "outputs": [
    {
     "ename": "ValueError",
     "evalue": "Could not load bitmap \"/home/a/Projects/generative/creative-coding-collection/001_game_of_life/onset.png\": Invalid magic number",
     "output_type": "error",
     "traceback": [
      "\u001B[0;31m---------------------------------------------------------------------------\u001B[0m",
      "\u001B[0;31mValueError\u001B[0m                                Traceback (most recent call last)",
      "\u001B[0;32m<ipython-input-29-dada89eea6f6>\u001B[0m in \u001B[0;36m<module>\u001B[0;34m\u001B[0m\n\u001B[1;32m      1\u001B[0m \u001B[0mFILENAME\u001B[0m \u001B[0;34m=\u001B[0m \u001B[0;34m'frame25'\u001B[0m\u001B[0;34m\u001B[0m\u001B[0;34m\u001B[0m\u001B[0m\n\u001B[1;32m      2\u001B[0m \u001B[0miio\u001B[0m\u001B[0;34m.\u001B[0m\u001B[0mplugins\u001B[0m\u001B[0;34m.\u001B[0m\u001B[0mfreeimage\u001B[0m\u001B[0;34m.\u001B[0m\u001B[0mdownload\u001B[0m\u001B[0;34m(\u001B[0m\u001B[0;34m)\u001B[0m\u001B[0;34m\u001B[0m\u001B[0;34m\u001B[0m\u001B[0m\n\u001B[0;32m----> 3\u001B[0;31m \u001B[0mimage\u001B[0m \u001B[0;34m=\u001B[0m \u001B[0miio\u001B[0m\u001B[0;34m.\u001B[0m\u001B[0mimread\u001B[0m\u001B[0;34m(\u001B[0m\u001B[0;34m'onset.png'\u001B[0m\u001B[0;34m,\u001B[0m \u001B[0mformat\u001B[0m\u001B[0;34m=\u001B[0m\u001B[0;34m'PFM-FI'\u001B[0m\u001B[0;34m)\u001B[0m\u001B[0;34m\u001B[0m\u001B[0;34m\u001B[0m\u001B[0m\n\u001B[0m\u001B[1;32m      4\u001B[0m \u001B[0;31m# iio.imwrite('onset1.png', image, format='PFM-FI')\u001B[0m\u001B[0;34m\u001B[0m\u001B[0;34m\u001B[0m\u001B[0;34m\u001B[0m\u001B[0m\n\u001B[1;32m      5\u001B[0m \u001B[0mimage\u001B[0m\u001B[0;34m.\u001B[0m\u001B[0mshape\u001B[0m\u001B[0;34m,\u001B[0m \u001B[0mimage\u001B[0m\u001B[0;34m.\u001B[0m\u001B[0mdtype\u001B[0m\u001B[0;34m\u001B[0m\u001B[0;34m\u001B[0m\u001B[0m\n",
      "\u001B[0;32m~/.local/lib/python3.8/site-packages/imageio/core/functions.py\u001B[0m in \u001B[0;36mimread\u001B[0;34m(uri, format, **kwargs)\u001B[0m\n\u001B[1;32m    263\u001B[0m \u001B[0;34m\u001B[0m\u001B[0m\n\u001B[1;32m    264\u001B[0m     \u001B[0;31m# Get reader and read first\u001B[0m\u001B[0;34m\u001B[0m\u001B[0;34m\u001B[0m\u001B[0;34m\u001B[0m\u001B[0m\n\u001B[0;32m--> 265\u001B[0;31m     \u001B[0mreader\u001B[0m \u001B[0;34m=\u001B[0m \u001B[0mread\u001B[0m\u001B[0;34m(\u001B[0m\u001B[0muri\u001B[0m\u001B[0;34m,\u001B[0m \u001B[0mformat\u001B[0m\u001B[0;34m,\u001B[0m \u001B[0;34m\"i\"\u001B[0m\u001B[0;34m,\u001B[0m \u001B[0;34m**\u001B[0m\u001B[0mkwargs\u001B[0m\u001B[0;34m)\u001B[0m\u001B[0;34m\u001B[0m\u001B[0;34m\u001B[0m\u001B[0m\n\u001B[0m\u001B[1;32m    266\u001B[0m     \u001B[0;32mwith\u001B[0m \u001B[0mreader\u001B[0m\u001B[0;34m:\u001B[0m\u001B[0;34m\u001B[0m\u001B[0;34m\u001B[0m\u001B[0m\n\u001B[1;32m    267\u001B[0m         \u001B[0;32mreturn\u001B[0m \u001B[0mreader\u001B[0m\u001B[0;34m.\u001B[0m\u001B[0mget_data\u001B[0m\u001B[0;34m(\u001B[0m\u001B[0;36m0\u001B[0m\u001B[0;34m)\u001B[0m\u001B[0;34m\u001B[0m\u001B[0;34m\u001B[0m\u001B[0m\n",
      "\u001B[0;32m~/.local/lib/python3.8/site-packages/imageio/core/functions.py\u001B[0m in \u001B[0;36mget_reader\u001B[0;34m(uri, format, mode, **kwargs)\u001B[0m\n\u001B[1;32m    184\u001B[0m \u001B[0;34m\u001B[0m\u001B[0m\n\u001B[1;32m    185\u001B[0m     \u001B[0;31m# Return its reader object\u001B[0m\u001B[0;34m\u001B[0m\u001B[0;34m\u001B[0m\u001B[0;34m\u001B[0m\u001B[0m\n\u001B[0;32m--> 186\u001B[0;31m     \u001B[0;32mreturn\u001B[0m \u001B[0mformat\u001B[0m\u001B[0;34m.\u001B[0m\u001B[0mget_reader\u001B[0m\u001B[0;34m(\u001B[0m\u001B[0mrequest\u001B[0m\u001B[0;34m)\u001B[0m\u001B[0;34m\u001B[0m\u001B[0;34m\u001B[0m\u001B[0m\n\u001B[0m\u001B[1;32m    187\u001B[0m \u001B[0;34m\u001B[0m\u001B[0m\n\u001B[1;32m    188\u001B[0m \u001B[0;34m\u001B[0m\u001B[0m\n",
      "\u001B[0;32m~/.local/lib/python3.8/site-packages/imageio/core/format.py\u001B[0m in \u001B[0;36mget_reader\u001B[0;34m(self, request)\u001B[0m\n\u001B[1;32m    168\u001B[0m                 \u001B[0;34m\"Format %s cannot read in %s mode\"\u001B[0m \u001B[0;34m%\u001B[0m \u001B[0;34m(\u001B[0m\u001B[0mself\u001B[0m\u001B[0;34m.\u001B[0m\u001B[0mname\u001B[0m\u001B[0;34m,\u001B[0m \u001B[0mmodename\u001B[0m\u001B[0;34m)\u001B[0m\u001B[0;34m\u001B[0m\u001B[0;34m\u001B[0m\u001B[0m\n\u001B[1;32m    169\u001B[0m             )\n\u001B[0;32m--> 170\u001B[0;31m         \u001B[0;32mreturn\u001B[0m \u001B[0mself\u001B[0m\u001B[0;34m.\u001B[0m\u001B[0mReader\u001B[0m\u001B[0;34m(\u001B[0m\u001B[0mself\u001B[0m\u001B[0;34m,\u001B[0m \u001B[0mrequest\u001B[0m\u001B[0;34m)\u001B[0m\u001B[0;34m\u001B[0m\u001B[0;34m\u001B[0m\u001B[0m\n\u001B[0m\u001B[1;32m    171\u001B[0m \u001B[0;34m\u001B[0m\u001B[0m\n\u001B[1;32m    172\u001B[0m     \u001B[0;32mdef\u001B[0m \u001B[0mget_writer\u001B[0m\u001B[0;34m(\u001B[0m\u001B[0mself\u001B[0m\u001B[0;34m,\u001B[0m \u001B[0mrequest\u001B[0m\u001B[0;34m)\u001B[0m\u001B[0;34m:\u001B[0m\u001B[0;34m\u001B[0m\u001B[0;34m\u001B[0m\u001B[0m\n",
      "\u001B[0;32m~/.local/lib/python3.8/site-packages/imageio/core/format.py\u001B[0m in \u001B[0;36m__init__\u001B[0;34m(self, format, request)\u001B[0m\n\u001B[1;32m    219\u001B[0m             \u001B[0mself\u001B[0m\u001B[0;34m.\u001B[0m\u001B[0m_request\u001B[0m \u001B[0;34m=\u001B[0m \u001B[0mrequest\u001B[0m\u001B[0;34m\u001B[0m\u001B[0;34m\u001B[0m\u001B[0m\n\u001B[1;32m    220\u001B[0m             \u001B[0;31m# Open the reader/writer\u001B[0m\u001B[0;34m\u001B[0m\u001B[0;34m\u001B[0m\u001B[0;34m\u001B[0m\u001B[0m\n\u001B[0;32m--> 221\u001B[0;31m             \u001B[0mself\u001B[0m\u001B[0;34m.\u001B[0m\u001B[0m_open\u001B[0m\u001B[0;34m(\u001B[0m\u001B[0;34m**\u001B[0m\u001B[0mself\u001B[0m\u001B[0;34m.\u001B[0m\u001B[0mrequest\u001B[0m\u001B[0;34m.\u001B[0m\u001B[0mkwargs\u001B[0m\u001B[0;34m.\u001B[0m\u001B[0mcopy\u001B[0m\u001B[0;34m(\u001B[0m\u001B[0;34m)\u001B[0m\u001B[0;34m)\u001B[0m\u001B[0;34m\u001B[0m\u001B[0;34m\u001B[0m\u001B[0m\n\u001B[0m\u001B[1;32m    222\u001B[0m \u001B[0;34m\u001B[0m\u001B[0m\n\u001B[1;32m    223\u001B[0m         \u001B[0;34m@\u001B[0m\u001B[0mproperty\u001B[0m\u001B[0;34m\u001B[0m\u001B[0;34m\u001B[0m\u001B[0m\n",
      "\u001B[0;32m~/.local/lib/python3.8/site-packages/imageio/plugins/freeimage.py\u001B[0m in \u001B[0;36m_open\u001B[0;34m(self, flags)\u001B[0m\n\u001B[1;32m     78\u001B[0m         \u001B[0;32mdef\u001B[0m \u001B[0m_open\u001B[0m\u001B[0;34m(\u001B[0m\u001B[0mself\u001B[0m\u001B[0;34m,\u001B[0m \u001B[0mflags\u001B[0m\u001B[0;34m=\u001B[0m\u001B[0;36m0\u001B[0m\u001B[0;34m)\u001B[0m\u001B[0;34m:\u001B[0m\u001B[0;34m\u001B[0m\u001B[0;34m\u001B[0m\u001B[0m\n\u001B[1;32m     79\u001B[0m             \u001B[0mself\u001B[0m\u001B[0;34m.\u001B[0m\u001B[0m_bm\u001B[0m \u001B[0;34m=\u001B[0m \u001B[0mfi\u001B[0m\u001B[0;34m.\u001B[0m\u001B[0mcreate_bitmap\u001B[0m\u001B[0;34m(\u001B[0m\u001B[0mself\u001B[0m\u001B[0;34m.\u001B[0m\u001B[0mrequest\u001B[0m\u001B[0;34m.\u001B[0m\u001B[0mfilename\u001B[0m\u001B[0;34m,\u001B[0m \u001B[0mself\u001B[0m\u001B[0;34m.\u001B[0m\u001B[0mformat\u001B[0m\u001B[0;34m.\u001B[0m\u001B[0mfif\u001B[0m\u001B[0;34m,\u001B[0m \u001B[0mflags\u001B[0m\u001B[0;34m)\u001B[0m\u001B[0;34m\u001B[0m\u001B[0;34m\u001B[0m\u001B[0m\n\u001B[0;32m---> 80\u001B[0;31m             \u001B[0mself\u001B[0m\u001B[0;34m.\u001B[0m\u001B[0m_bm\u001B[0m\u001B[0;34m.\u001B[0m\u001B[0mload_from_filename\u001B[0m\u001B[0;34m(\u001B[0m\u001B[0mself\u001B[0m\u001B[0;34m.\u001B[0m\u001B[0mrequest\u001B[0m\u001B[0;34m.\u001B[0m\u001B[0mget_local_filename\u001B[0m\u001B[0;34m(\u001B[0m\u001B[0;34m)\u001B[0m\u001B[0;34m)\u001B[0m\u001B[0;34m\u001B[0m\u001B[0;34m\u001B[0m\u001B[0m\n\u001B[0m\u001B[1;32m     81\u001B[0m \u001B[0;34m\u001B[0m\u001B[0m\n\u001B[1;32m     82\u001B[0m         \u001B[0;32mdef\u001B[0m \u001B[0m_close\u001B[0m\u001B[0;34m(\u001B[0m\u001B[0mself\u001B[0m\u001B[0;34m)\u001B[0m\u001B[0;34m:\u001B[0m\u001B[0;34m\u001B[0m\u001B[0;34m\u001B[0m\u001B[0m\n",
      "\u001B[0;32m~/.local/lib/python3.8/site-packages/imageio/plugins/_freeimage.py\u001B[0m in \u001B[0;36mload_from_filename\u001B[0;34m(self, filename)\u001B[0m\n\u001B[1;32m    850\u001B[0m             \u001B[0;31m# Check and store\u001B[0m\u001B[0;34m\u001B[0m\u001B[0;34m\u001B[0m\u001B[0;34m\u001B[0m\u001B[0m\n\u001B[1;32m    851\u001B[0m             \u001B[0;32mif\u001B[0m \u001B[0;32mnot\u001B[0m \u001B[0mbitmap\u001B[0m\u001B[0;34m:\u001B[0m  \u001B[0;31m# pragma: no cover\u001B[0m\u001B[0;34m\u001B[0m\u001B[0;34m\u001B[0m\u001B[0m\n\u001B[0;32m--> 852\u001B[0;31m                 raise ValueError(\n\u001B[0m\u001B[1;32m    853\u001B[0m                     \u001B[0;34m'Could not load bitmap \"%s\": %s'\u001B[0m\u001B[0;34m\u001B[0m\u001B[0;34m\u001B[0m\u001B[0m\n\u001B[1;32m    854\u001B[0m                     \u001B[0;34m%\u001B[0m \u001B[0;34m(\u001B[0m\u001B[0mself\u001B[0m\u001B[0;34m.\u001B[0m\u001B[0m_filename\u001B[0m\u001B[0;34m,\u001B[0m \u001B[0mself\u001B[0m\u001B[0;34m.\u001B[0m\u001B[0m_fi\u001B[0m\u001B[0;34m.\u001B[0m\u001B[0m_get_error_message\u001B[0m\u001B[0;34m(\u001B[0m\u001B[0;34m)\u001B[0m\u001B[0;34m)\u001B[0m\u001B[0;34m\u001B[0m\u001B[0;34m\u001B[0m\u001B[0m\n",
      "\u001B[0;31mValueError\u001B[0m: Could not load bitmap \"/home/a/Projects/generative/creative-coding-collection/001_game_of_life/onset.png\": Invalid magic number"
     ]
    }
   ],
   "source": [
    "FILENAME = 'frame25'\n",
    "iio.plugins.freeimage.download()\n",
    "image = iio.imread('onset.png', format='PFM-FI')\n",
    "image.shape, image.dtype"
   ],
   "metadata": {
    "collapsed": false,
    "pycharm": {
     "name": "#%%\n"
    }
   }
  },
  {
   "cell_type": "markdown",
   "source": [
    "### Allocate GPU memory"
   ],
   "metadata": {
    "collapsed": false
   }
  },
  {
   "cell_type": "code",
   "execution_count": 17,
   "outputs": [],
   "source": [
    "image_grid = ti.field(dtype=ti.f32, shape=image.shape)\n",
    "image_grid_downsampled = ti.field(dtype=ti.f32, shape=(int(image.shape[1] / GUI_DOWNSCALING_FACTOR), int(image.shape[0] / GUI_DOWNSCALING_FACTOR), image.shape[2]))\n",
    "igaussian_grid_A = ti.field(dtype=ti.f32, shape=image.shape)\n",
    "igaussian_grid_B = ti.field(dtype=ti.f32, shape=image.shape)"
   ],
   "metadata": {
    "collapsed": false,
    "pycharm": {
     "name": "#%%\n"
    }
   }
  },
  {
   "cell_type": "markdown",
   "source": [
    "### Define GPU compute kernels"
   ],
   "metadata": {
    "collapsed": false
   }
  },
  {
   "cell_type": "code",
   "execution_count": 18,
   "outputs": [],
   "source": [
    "@ti.kernel\n",
    "def copy(dst: ti.template(), src: ti.template()):\n",
    "    for p in ti.grouped(dst):\n",
    "        dst[p] = src[p]\n",
    "\n",
    "@ti.kernel\n",
    "def tonemap_hdr(exposure: ti.f32, gamma: ti.f32, i_red: ti.f32, i_green: ti.f32, i_blue: ti.f32):\n",
    "    for x, y in ti.ndrange(image_grid.shape[0], image_grid.shape[1]):\n",
    "        image_grid[x, y, 0] = (1.0 - ti.exp(-exposure * i_red   * image_grid[x, y, 0])) ** (1.0/gamma)\n",
    "        image_grid[x, y, 1] = (1.0 - ti.exp(-exposure * i_green * image_grid[x, y, 1])) ** (1.0/gamma)\n",
    "        image_grid[x, y, 2] = (1.0 - ti.exp(-exposure * i_blue  * image_grid[x, y, 2])) ** (1.0/gamma)\n",
    "\n",
    "GAUSS = [5.0, 1.0, 1.0/1.41]\n",
    "GAUSS_NORM = GAUSS[0] + 4.0 * GAUSS[1] + 4.0 * GAUSS[2]\n",
    "\n",
    "@ti.kernel\n",
    "# def incremental_blur():\n",
    "def blur(i_gaussian_grid_1: ti.template(), i_gaussian_grid_2: ti.template()):\n",
    "    GAUSS = [5.0, 1.0, 1.0/1.41]\n",
    "    GAUSS_NORM = GAUSS[0] + 4.0 * GAUSS[1] + 4.0 * GAUSS[2]\n",
    "    for x, y, ch in i_gaussian_grid_2:\n",
    "        value = GAUSS[0] * i_gaussian_grid_1[x, y, ch]\\\n",
    "              + GAUSS[1] * i_gaussian_grid_1[x-1, y, ch]\\\n",
    "              + GAUSS[1] * i_gaussian_grid_1[x+1, y, ch]\\\n",
    "              + GAUSS[1] * i_gaussian_grid_1[x, y-1, ch]\\\n",
    "              + GAUSS[1] * i_gaussian_grid_1[x, y+1, ch]\\\n",
    "              + GAUSS[2] * i_gaussian_grid_1[x-1, y-1, ch]\\\n",
    "              + GAUSS[2] * i_gaussian_grid_1[x+1, y+1, ch]\\\n",
    "              + GAUSS[2] * i_gaussian_grid_1[x+1, y-1, ch]\\\n",
    "              + GAUSS[2] * i_gaussian_grid_1[x-1, y+1, ch]\n",
    "        i_gaussian_grid_2[x, y, ch] = value / GAUSS_NORM\n",
    "\n",
    "@ti.kernel\n",
    "def unsharp_compose(intensity: ti.f32):\n",
    "    for x, y, ch in image_grid:\n",
    "        base = image_grid[x, y, ch]\n",
    "        blurred = igaussian_grid_A[x, y, ch]\n",
    "        image_grid[x, y, ch] = max(0.0, min(base + intensity * (base - blurred), 1.0))\n",
    "\n",
    "@ti.kernel\n",
    "def img_downsample(img : ti.template(), img_downsampled : ti.template()):\n",
    "    for x, y, ch in img_downsampled:\n",
    "        img_downsampled[x, y, ch] =\\\n",
    "            img[int((img.shape[0] - GUI_DOWNSCALING_FACTOR*y)), int(GUI_DOWNSCALING_FACTOR * x), ch]"
   ],
   "metadata": {
    "collapsed": false,
    "pycharm": {
     "name": "#%%\n"
    }
   }
  },
  {
   "cell_type": "markdown",
   "source": [
    "### Run Taichi GUI and computation"
   ],
   "metadata": {
    "collapsed": false
   }
  },
  {
   "cell_type": "code",
   "execution_count": 19,
   "outputs": [
    {
     "name": "stdout",
     "output_type": "stream",
     "text": [
      "[Taichi] materializing...\n"
     ]
    }
   ],
   "source": [
    "gui = ti.GUI('Game of Life', (image_grid_downsampled.shape[0], image_grid_downsampled.shape[1]))\n",
    "exposure = gui.slider('exposure', 0.0, 10.0, 0.01); exposure.value = 2.0\n",
    "gamma = gui.slider('gamma', 0.1, 5.0, 0.01); gamma.value = 1.6\n",
    "scale = gui.slider('unsharp scale', 0.0, 30.0, 1.0); scale.value = 8.0\n",
    "sharpness = gui.slider('unsharp intensity', 0.0, 2.0, 0.01); sharpness.value = 0.3\n",
    "i_red = gui.slider('I-red', 0.0, 2.0, 0.01); i_red.value = 1.1\n",
    "i_green = gui.slider('I-green', 0.0, 2.0, 0.01); i_green.value = 1.05\n",
    "i_blue = gui.slider('I-blue', 0.0, 2.0, 0.01); i_blue.value = 1.0\n",
    "\n",
    "\n",
    "while gui.running:\n",
    "    # copy image from CPU to GPU memory\n",
    "    image_grid.from_numpy(image)\n",
    "    # tonemap image using the gamma operator\n",
    "    tonemap_hdr(exposure.value, gamma.value, i_red.value, i_green.value, i_blue.value)\n",
    "\n",
    "    # sharpen the image using unsharp masking with incremental Gaussian blur\n",
    "    copy(igaussian_grid_A, image_grid)\n",
    "    for n in range(int(scale.value)):\n",
    "        # incremental_blur()\n",
    "        blur(igaussian_grid_A, igaussian_grid_B)\n",
    "        blur(igaussian_grid_B, igaussian_grid_A)\n",
    "    unsharp_compose(sharpness.value)\n",
    "\n",
    "    # downsample the image for display in the GUI\n",
    "    img_downsample(image_grid, image_grid_downsampled)\n",
    "    gui.set_image(image_grid_downsampled)\n",
    "    gui.show()\n",
    "\n",
    "# when done, copy the results back to the CPU memory\n",
    "image_final = image_grid.to_numpy()"
   ],
   "metadata": {
    "collapsed": false,
    "pycharm": {
     "name": "#%%\n"
    }
   }
  },
  {
   "cell_type": "markdown",
   "source": [
    "### Show results"
   ],
   "metadata": {
    "collapsed": false
   }
  },
  {
   "cell_type": "code",
   "execution_count": 20,
   "outputs": [
    {
     "data": {
      "text/plain": "<Figure size 720x720 with 1 Axes>",
      "image/png": "[encoded data removed]"
     },
     "metadata": {
      "needs_background": "light"
     },
     "output_type": "display_data"
    }
   ],
   "source": [
    "# version 1\n",
    "# ti.imdisplay(image)\n",
    "plt.figure(figsize = (10.0, 10.0))\n",
    "# version 2\n",
    "plt.imshow(image_final);"
   ],
   "metadata": {
    "collapsed": false,
    "pycharm": {
     "name": "#%%\n"
    }
   }
  },
  {
   "cell_type": "markdown",
   "source": [
    "### Store results"
   ],
   "metadata": {
    "collapsed": false
   }
  },
  {
   "cell_type": "code",
   "execution_count": 21,
   "outputs": [],
   "source": [
    "iio.imwrite(FILENAME + '.exr', image_final, format='EXR-FI')\n",
    "image_final_LDR = 255.0 * image_final\n",
    "iio.imwrite(FILENAME + '.png', image_final_LDR.astype(np.uint8), format='PNG-FI')"
   ],
   "metadata": {
    "collapsed": false,
    "pycharm": {
     "name": "#%%\n"
    }
   }
  }
 ],
 "metadata": {
  "kernelspec": {
   "name": "pycharm-5af6fa8",
   "language": "python",
   "display_name": "PyCharm (001_game_of_life)"
  },
  "language_info": {
   "codemirror_mode": {
    "name": "ipython",
    "version": 2
   },
   "file_extension": ".py",
   "mimetype": "text/x-python",
   "name": "python",
   "nbconvert_exporter": "python",
   "pygments_lexer": "ipython2",
   "version": "2.7.6"
  }
 },
 "nbformat": 4,
 "nbformat_minor": 0
}